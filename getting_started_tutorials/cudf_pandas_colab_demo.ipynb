{
  "cells": [
    {
      "cell_type": "markdown",
      "metadata": {
        "id": "kcF9ZWvjSybR"
      },
      "source": [
        "# 10 Minutes to RAPIDS cuDF's pandas accelerator mode (cudf.pandas)\n",
        "\n",
        "cuDF is a Python GPU DataFrame library (built on the Apache Arrow columnar memory format) for loading, joining, aggregating, filtering, and otherwise manipulating tabular data using a DataFrame style API in the style of pandas.\n",
        "\n",
        "cuDF now provides a pandas accelerator mode (`cudf.pandas`), allowing you to bring accelerated computing to your pandas workflows without requiring any code change.\n",
        "\n",
        "This notebook is a short introduction to `cudf.pandas`."
      ]
    },
    {
      "cell_type": "markdown",
      "metadata": {
        "id": "SH_h6ci1Sx0u"
      },
      "source": [
        "# ⚠️ Verify your setup\n",
        "\n",
        "First, we'll verify that you are running with an NVIDIA GPU."
      ]
    },
    {
      "cell_type": "code",
      "execution_count": 1,
      "metadata": {
        "colab": {
          "base_uri": "https://localhost:8080/"
        },
        "id": "Y2vPCtXcCvUR",
        "outputId": "0b4d3f3b-afb0-415d-ed65-7e835876735f",
        "tags": []
      },
      "outputs": [
        {
          "output_type": "stream",
          "name": "stdout",
          "text": [
            "Tue Jul  8 13:49:06 2025       \n",
            "+-----------------------------------------------------------------------------------------+\n",
            "| NVIDIA-SMI 550.54.15              Driver Version: 550.54.15      CUDA Version: 12.4     |\n",
            "|-----------------------------------------+------------------------+----------------------+\n",
            "| GPU  Name                 Persistence-M | Bus-Id          Disp.A | Volatile Uncorr. ECC |\n",
            "| Fan  Temp   Perf          Pwr:Usage/Cap |           Memory-Usage | GPU-Util  Compute M. |\n",
            "|                                         |                        |               MIG M. |\n",
            "|=========================================+========================+======================|\n",
            "|   0  Tesla T4                       Off |   00000000:00:04.0 Off |                    0 |\n",
            "| N/A   49C    P8             10W /   70W |       0MiB /  15360MiB |      0%      Default |\n",
            "|                                         |                        |                  N/A |\n",
            "+-----------------------------------------+------------------------+----------------------+\n",
            "                                                                                         \n",
            "+-----------------------------------------------------------------------------------------+\n",
            "| Processes:                                                                              |\n",
            "|  GPU   GI   CI        PID   Type   Process name                              GPU Memory |\n",
            "|        ID   ID                                                               Usage      |\n",
            "|=========================================================================================|\n",
            "|  No running processes found                                                             |\n",
            "+-----------------------------------------------------------------------------------------+\n"
          ]
        }
      ],
      "source": [
        "!nvidia-smi  # this should display information about available GPUs"
      ]
    },
    {
      "cell_type": "markdown",
      "metadata": {
        "id": "4zGUeWvcTbDs"
      },
      "source": [
        "# Download the data\n",
        "\n",
        "The data we'll be working with is the [Parking Violations Issued - Fiscal Year 2022](https://data.cityofnewyork.us/City-Government/Parking-Violations-Issued-Fiscal-Year-2022/7mxj-7a6y) dataset from NYC Open Data.\n",
        "\n",
        "We're downloading a copy of this dataset from an s3 bucket hosted by NVIDIA to provide faster download speeds. We'll start by downloading the data. This should take about 30 seconds.\n",
        "\n",
        "## Data License and Terms\n",
        "As this dataset originates from the NYC Open Data Portal, it's governed by their license and terms of use.\n",
        "\n",
        "### Are there restrictions on how I can use Open Data?\n",
        "\n",
        "> Open Data belongs to all New Yorkers. There are no restrictions on the use of Open Data. Refer to Terms of Use for more information.\n",
        "\n",
        "### [Terms of Use](https://opendata.cityofnewyork.us/overview/#termsofuse)\n",
        "\n",
        "> By accessing datasets and feeds available through NYC Open Data, the user agrees to all of the Terms of Use of NYC.gov as well as the Privacy Policy for NYC.gov. The user also agrees to any additional terms of use defined by the agencies, bureaus, and offices providing data. Public data sets made available on NYC Open Data are provided for informational purposes. The City does not warranty the completeness, accuracy, content, or fitness for any particular purpose or use of any public data set made available on NYC Open Data, nor are any such warranties to be implied or inferred with respect to the public data sets furnished therein.\n",
        "\n",
        "> The City is not liable for any deficiencies in the completeness, accuracy, content, or fitness for any particular purpose or use of any public data set, or application utilizing such data set, provided by any third party.\n",
        "\n",
        "> Submitting City Agencies are the authoritative source of data available on NYC Open Data. These entities are responsible for data quality and retain version control of data sets and feeds accessed on the Site. Data may be updated, corrected, or refreshed at any time."
      ]
    },
    {
      "cell_type": "code",
      "execution_count": 2,
      "metadata": {
        "colab": {
          "base_uri": "https://localhost:8080/"
        },
        "id": "5EoQqNwsTqeP",
        "outputId": "6352c1c3-5371-4a04-8fea-592fee03615f",
        "tags": []
      },
      "outputs": [
        {
          "output_type": "stream",
          "name": "stdout",
          "text": [
            "--2025-07-08 13:49:06--  https://data.rapids.ai/datasets/nyc_parking/nyc_parking_violations_2022.parquet\n",
            "Resolving data.rapids.ai (data.rapids.ai)... 99.86.38.57, 99.86.38.71, 99.86.38.104, ...\n",
            "Connecting to data.rapids.ai (data.rapids.ai)|99.86.38.57|:443... connected.\n",
            "HTTP request sent, awaiting response... 200 OK\n",
            "Length: 474211285 (452M) [binary/octet-stream]\n",
            "Saving to: ‘/tmp/nyc_parking_violations_2022.parquet’\n",
            "\n",
            "/tmp/nyc_parking_vi 100%[===================>] 452.24M  64.7MB/s    in 7.4s    \n",
            "\n",
            "2025-07-08 13:49:14 (61.0 MB/s) - ‘/tmp/nyc_parking_violations_2022.parquet’ saved [474211285/474211285]\n",
            "\n"
          ]
        }
      ],
      "source": [
        "!wget https://data.rapids.ai/datasets/nyc_parking/nyc_parking_violations_2022.parquet -O /tmp/nyc_parking_violations_2022.parquet"
      ]
    },
    {
      "cell_type": "markdown",
      "metadata": {
        "id": "hAvNFbYKWwti"
      },
      "source": [
        "# Analysis using Standard Pandas\n",
        "\n",
        "First, let's use Pandas to read in some columns of the dataset:"
      ]
    },
    {
      "cell_type": "code",
      "execution_count": 3,
      "metadata": {
        "id": "SLRleX9xWxqX",
        "tags": []
      },
      "outputs": [],
      "source": [
        "import pandas as pd"
      ]
    },
    {
      "cell_type": "code",
      "execution_count": 4,
      "metadata": {
        "colab": {
          "base_uri": "https://localhost:8080/",
          "height": 658
        },
        "id": "OLatEi7rW0la",
        "outputId": "03f26c1d-4dd8-49de-c9ad-55cf128139e1",
        "tags": []
      },
      "outputs": [
        {
          "output_type": "execute_result",
          "data": {
            "text/plain": [
              "         Registration State           Violation Description Vehicle Body Type  \\\n",
              "2034179                  NY  PHTO SCHOOL ZN SPEED VIOLATION               VAN   \n",
              "9289423                  NY        20A-No Parking (Non-COM)              SUBN   \n",
              "13249520                 NY  PHTO SCHOOL ZN SPEED VIOLATION              SUBN   \n",
              "10413875                 NY      No Parking Street Cleaning              SUBN   \n",
              "650045                   NY  69-Fail to Dsp Prking Mtr Rcpt               VAN   \n",
              "13748042                 IL  38-Failure to Dsplay Meter Rec              DELV   \n",
              "4629038                  MD  PHTO SCHOOL ZN SPEED VIOLATION              Wago   \n",
              "4131714                  NY  PHTO SCHOOL ZN SPEED VIOLATION              SUBN   \n",
              "5362754                  NY              BUS LANE VIOLATION              SUBN   \n",
              "4503830                  NY              BUS LANE VIOLATION              4DSD   \n",
              "\n",
              "          Issue Date  Summons Number  \n",
              "2034179   08/18/2021      4745109714  \n",
              "9289423   01/31/2022      8904099651  \n",
              "13249520  05/05/2022      4778499190  \n",
              "10413875  03/03/2022      2004671683  \n",
              "650045    07/15/2021      8926591839  \n",
              "13748042  05/11/2022      8875644834  \n",
              "4629038   10/12/2021      4752431646  \n",
              "4131714   10/12/2021      4752125341  \n",
              "5362754   10/17/2021      4020192730  \n",
              "4503830   10/14/2021      4020135150  "
            ],
            "text/html": [
              "\n",
              "  <div id=\"df-ab20bbd0-ebab-4790-867e-e0f5f69da029\" class=\"colab-df-container\">\n",
              "    <div>\n",
              "<style scoped>\n",
              "    .dataframe tbody tr th:only-of-type {\n",
              "        vertical-align: middle;\n",
              "    }\n",
              "\n",
              "    .dataframe tbody tr th {\n",
              "        vertical-align: top;\n",
              "    }\n",
              "\n",
              "    .dataframe thead th {\n",
              "        text-align: right;\n",
              "    }\n",
              "</style>\n",
              "<table border=\"1\" class=\"dataframe\">\n",
              "  <thead>\n",
              "    <tr style=\"text-align: right;\">\n",
              "      <th></th>\n",
              "      <th>Registration State</th>\n",
              "      <th>Violation Description</th>\n",
              "      <th>Vehicle Body Type</th>\n",
              "      <th>Issue Date</th>\n",
              "      <th>Summons Number</th>\n",
              "    </tr>\n",
              "  </thead>\n",
              "  <tbody>\n",
              "    <tr>\n",
              "      <th>2034179</th>\n",
              "      <td>NY</td>\n",
              "      <td>PHTO SCHOOL ZN SPEED VIOLATION</td>\n",
              "      <td>VAN</td>\n",
              "      <td>08/18/2021</td>\n",
              "      <td>4745109714</td>\n",
              "    </tr>\n",
              "    <tr>\n",
              "      <th>9289423</th>\n",
              "      <td>NY</td>\n",
              "      <td>20A-No Parking (Non-COM)</td>\n",
              "      <td>SUBN</td>\n",
              "      <td>01/31/2022</td>\n",
              "      <td>8904099651</td>\n",
              "    </tr>\n",
              "    <tr>\n",
              "      <th>13249520</th>\n",
              "      <td>NY</td>\n",
              "      <td>PHTO SCHOOL ZN SPEED VIOLATION</td>\n",
              "      <td>SUBN</td>\n",
              "      <td>05/05/2022</td>\n",
              "      <td>4778499190</td>\n",
              "    </tr>\n",
              "    <tr>\n",
              "      <th>10413875</th>\n",
              "      <td>NY</td>\n",
              "      <td>No Parking Street Cleaning</td>\n",
              "      <td>SUBN</td>\n",
              "      <td>03/03/2022</td>\n",
              "      <td>2004671683</td>\n",
              "    </tr>\n",
              "    <tr>\n",
              "      <th>650045</th>\n",
              "      <td>NY</td>\n",
              "      <td>69-Fail to Dsp Prking Mtr Rcpt</td>\n",
              "      <td>VAN</td>\n",
              "      <td>07/15/2021</td>\n",
              "      <td>8926591839</td>\n",
              "    </tr>\n",
              "    <tr>\n",
              "      <th>13748042</th>\n",
              "      <td>IL</td>\n",
              "      <td>38-Failure to Dsplay Meter Rec</td>\n",
              "      <td>DELV</td>\n",
              "      <td>05/11/2022</td>\n",
              "      <td>8875644834</td>\n",
              "    </tr>\n",
              "    <tr>\n",
              "      <th>4629038</th>\n",
              "      <td>MD</td>\n",
              "      <td>PHTO SCHOOL ZN SPEED VIOLATION</td>\n",
              "      <td>Wago</td>\n",
              "      <td>10/12/2021</td>\n",
              "      <td>4752431646</td>\n",
              "    </tr>\n",
              "    <tr>\n",
              "      <th>4131714</th>\n",
              "      <td>NY</td>\n",
              "      <td>PHTO SCHOOL ZN SPEED VIOLATION</td>\n",
              "      <td>SUBN</td>\n",
              "      <td>10/12/2021</td>\n",
              "      <td>4752125341</td>\n",
              "    </tr>\n",
              "    <tr>\n",
              "      <th>5362754</th>\n",
              "      <td>NY</td>\n",
              "      <td>BUS LANE VIOLATION</td>\n",
              "      <td>SUBN</td>\n",
              "      <td>10/17/2021</td>\n",
              "      <td>4020192730</td>\n",
              "    </tr>\n",
              "    <tr>\n",
              "      <th>4503830</th>\n",
              "      <td>NY</td>\n",
              "      <td>BUS LANE VIOLATION</td>\n",
              "      <td>4DSD</td>\n",
              "      <td>10/14/2021</td>\n",
              "      <td>4020135150</td>\n",
              "    </tr>\n",
              "  </tbody>\n",
              "</table>\n",
              "</div>\n",
              "    <div class=\"colab-df-buttons\">\n",
              "\n",
              "  <div class=\"colab-df-container\">\n",
              "    <button class=\"colab-df-convert\" onclick=\"convertToInteractive('df-ab20bbd0-ebab-4790-867e-e0f5f69da029')\"\n",
              "            title=\"Convert this dataframe to an interactive table.\"\n",
              "            style=\"display:none;\">\n",
              "\n",
              "  <svg xmlns=\"http://www.w3.org/2000/svg\" height=\"24px\" viewBox=\"0 -960 960 960\">\n",
              "    <path d=\"M120-120v-720h720v720H120Zm60-500h600v-160H180v160Zm220 220h160v-160H400v160Zm0 220h160v-160H400v160ZM180-400h160v-160H180v160Zm440 0h160v-160H620v160ZM180-180h160v-160H180v160Zm440 0h160v-160H620v160Z\"/>\n",
              "  </svg>\n",
              "    </button>\n",
              "\n",
              "  <style>\n",
              "    .colab-df-container {\n",
              "      display:flex;\n",
              "      gap: 12px;\n",
              "    }\n",
              "\n",
              "    .colab-df-convert {\n",
              "      background-color: #E8F0FE;\n",
              "      border: none;\n",
              "      border-radius: 50%;\n",
              "      cursor: pointer;\n",
              "      display: none;\n",
              "      fill: #1967D2;\n",
              "      height: 32px;\n",
              "      padding: 0 0 0 0;\n",
              "      width: 32px;\n",
              "    }\n",
              "\n",
              "    .colab-df-convert:hover {\n",
              "      background-color: #E2EBFA;\n",
              "      box-shadow: 0px 1px 2px rgba(60, 64, 67, 0.3), 0px 1px 3px 1px rgba(60, 64, 67, 0.15);\n",
              "      fill: #174EA6;\n",
              "    }\n",
              "\n",
              "    .colab-df-buttons div {\n",
              "      margin-bottom: 4px;\n",
              "    }\n",
              "\n",
              "    [theme=dark] .colab-df-convert {\n",
              "      background-color: #3B4455;\n",
              "      fill: #D2E3FC;\n",
              "    }\n",
              "\n",
              "    [theme=dark] .colab-df-convert:hover {\n",
              "      background-color: #434B5C;\n",
              "      box-shadow: 0px 1px 3px 1px rgba(0, 0, 0, 0.15);\n",
              "      filter: drop-shadow(0px 1px 2px rgba(0, 0, 0, 0.3));\n",
              "      fill: #FFFFFF;\n",
              "    }\n",
              "  </style>\n",
              "\n",
              "    <script>\n",
              "      const buttonEl =\n",
              "        document.querySelector('#df-ab20bbd0-ebab-4790-867e-e0f5f69da029 button.colab-df-convert');\n",
              "      buttonEl.style.display =\n",
              "        google.colab.kernel.accessAllowed ? 'block' : 'none';\n",
              "\n",
              "      async function convertToInteractive(key) {\n",
              "        const element = document.querySelector('#df-ab20bbd0-ebab-4790-867e-e0f5f69da029');\n",
              "        const dataTable =\n",
              "          await google.colab.kernel.invokeFunction('convertToInteractive',\n",
              "                                                    [key], {});\n",
              "        if (!dataTable) return;\n",
              "\n",
              "        const docLinkHtml = 'Like what you see? Visit the ' +\n",
              "          '<a target=\"_blank\" href=https://colab.research.google.com/notebooks/data_table.ipynb>data table notebook</a>'\n",
              "          + ' to learn more about interactive tables.';\n",
              "        element.innerHTML = '';\n",
              "        dataTable['output_type'] = 'display_data';\n",
              "        await google.colab.output.renderOutput(dataTable, element);\n",
              "        const docLink = document.createElement('div');\n",
              "        docLink.innerHTML = docLinkHtml;\n",
              "        element.appendChild(docLink);\n",
              "      }\n",
              "    </script>\n",
              "  </div>\n",
              "\n",
              "\n",
              "    <div id=\"df-667ec253-b0d2-4299-9ee4-dfb6df094172\">\n",
              "      <button class=\"colab-df-quickchart\" onclick=\"quickchart('df-667ec253-b0d2-4299-9ee4-dfb6df094172')\"\n",
              "                title=\"Suggest charts\"\n",
              "                style=\"display:none;\">\n",
              "\n",
              "<svg xmlns=\"http://www.w3.org/2000/svg\" height=\"24px\"viewBox=\"0 0 24 24\"\n",
              "     width=\"24px\">\n",
              "    <g>\n",
              "        <path d=\"M19 3H5c-1.1 0-2 .9-2 2v14c0 1.1.9 2 2 2h14c1.1 0 2-.9 2-2V5c0-1.1-.9-2-2-2zM9 17H7v-7h2v7zm4 0h-2V7h2v10zm4 0h-2v-4h2v4z\"/>\n",
              "    </g>\n",
              "</svg>\n",
              "      </button>\n",
              "\n",
              "<style>\n",
              "  .colab-df-quickchart {\n",
              "      --bg-color: #E8F0FE;\n",
              "      --fill-color: #1967D2;\n",
              "      --hover-bg-color: #E2EBFA;\n",
              "      --hover-fill-color: #174EA6;\n",
              "      --disabled-fill-color: #AAA;\n",
              "      --disabled-bg-color: #DDD;\n",
              "  }\n",
              "\n",
              "  [theme=dark] .colab-df-quickchart {\n",
              "      --bg-color: #3B4455;\n",
              "      --fill-color: #D2E3FC;\n",
              "      --hover-bg-color: #434B5C;\n",
              "      --hover-fill-color: #FFFFFF;\n",
              "      --disabled-bg-color: #3B4455;\n",
              "      --disabled-fill-color: #666;\n",
              "  }\n",
              "\n",
              "  .colab-df-quickchart {\n",
              "    background-color: var(--bg-color);\n",
              "    border: none;\n",
              "    border-radius: 50%;\n",
              "    cursor: pointer;\n",
              "    display: none;\n",
              "    fill: var(--fill-color);\n",
              "    height: 32px;\n",
              "    padding: 0;\n",
              "    width: 32px;\n",
              "  }\n",
              "\n",
              "  .colab-df-quickchart:hover {\n",
              "    background-color: var(--hover-bg-color);\n",
              "    box-shadow: 0 1px 2px rgba(60, 64, 67, 0.3), 0 1px 3px 1px rgba(60, 64, 67, 0.15);\n",
              "    fill: var(--button-hover-fill-color);\n",
              "  }\n",
              "\n",
              "  .colab-df-quickchart-complete:disabled,\n",
              "  .colab-df-quickchart-complete:disabled:hover {\n",
              "    background-color: var(--disabled-bg-color);\n",
              "    fill: var(--disabled-fill-color);\n",
              "    box-shadow: none;\n",
              "  }\n",
              "\n",
              "  .colab-df-spinner {\n",
              "    border: 2px solid var(--fill-color);\n",
              "    border-color: transparent;\n",
              "    border-bottom-color: var(--fill-color);\n",
              "    animation:\n",
              "      spin 1s steps(1) infinite;\n",
              "  }\n",
              "\n",
              "  @keyframes spin {\n",
              "    0% {\n",
              "      border-color: transparent;\n",
              "      border-bottom-color: var(--fill-color);\n",
              "      border-left-color: var(--fill-color);\n",
              "    }\n",
              "    20% {\n",
              "      border-color: transparent;\n",
              "      border-left-color: var(--fill-color);\n",
              "      border-top-color: var(--fill-color);\n",
              "    }\n",
              "    30% {\n",
              "      border-color: transparent;\n",
              "      border-left-color: var(--fill-color);\n",
              "      border-top-color: var(--fill-color);\n",
              "      border-right-color: var(--fill-color);\n",
              "    }\n",
              "    40% {\n",
              "      border-color: transparent;\n",
              "      border-right-color: var(--fill-color);\n",
              "      border-top-color: var(--fill-color);\n",
              "    }\n",
              "    60% {\n",
              "      border-color: transparent;\n",
              "      border-right-color: var(--fill-color);\n",
              "    }\n",
              "    80% {\n",
              "      border-color: transparent;\n",
              "      border-right-color: var(--fill-color);\n",
              "      border-bottom-color: var(--fill-color);\n",
              "    }\n",
              "    90% {\n",
              "      border-color: transparent;\n",
              "      border-bottom-color: var(--fill-color);\n",
              "    }\n",
              "  }\n",
              "</style>\n",
              "\n",
              "      <script>\n",
              "        async function quickchart(key) {\n",
              "          const quickchartButtonEl =\n",
              "            document.querySelector('#' + key + ' button');\n",
              "          quickchartButtonEl.disabled = true;  // To prevent multiple clicks.\n",
              "          quickchartButtonEl.classList.add('colab-df-spinner');\n",
              "          try {\n",
              "            const charts = await google.colab.kernel.invokeFunction(\n",
              "                'suggestCharts', [key], {});\n",
              "          } catch (error) {\n",
              "            console.error('Error during call to suggestCharts:', error);\n",
              "          }\n",
              "          quickchartButtonEl.classList.remove('colab-df-spinner');\n",
              "          quickchartButtonEl.classList.add('colab-df-quickchart-complete');\n",
              "        }\n",
              "        (() => {\n",
              "          let quickchartButtonEl =\n",
              "            document.querySelector('#df-667ec253-b0d2-4299-9ee4-dfb6df094172 button');\n",
              "          quickchartButtonEl.style.display =\n",
              "            google.colab.kernel.accessAllowed ? 'block' : 'none';\n",
              "        })();\n",
              "      </script>\n",
              "    </div>\n",
              "\n",
              "    </div>\n",
              "  </div>\n"
            ],
            "application/vnd.google.colaboratory.intrinsic+json": {
              "type": "dataframe",
              "repr_error": "0"
            }
          },
          "metadata": {},
          "execution_count": 4
        }
      ],
      "source": [
        "# read 5 columns data:\n",
        "df = pd.read_parquet(\n",
        "    \"/tmp/nyc_parking_violations_2022.parquet\",\n",
        "    columns=[\"Registration State\", \"Violation Description\", \"Vehicle Body Type\", \"Issue Date\", \"Summons Number\"]\n",
        ")\n",
        "\n",
        "# view a random sample of 10 rows:\n",
        "df.sample(10)"
      ]
    },
    {
      "cell_type": "markdown",
      "metadata": {
        "id": "m7qXNJU9W53D"
      },
      "source": [
        "Next, we'll try to answer a few questions using the data."
      ]
    },
    {
      "cell_type": "markdown",
      "metadata": {
        "id": "VmkFv9ZUW37g"
      },
      "source": [
        "## Which parking violation is most commonly committed by vehicles from various U.S states?\n",
        "\n",
        "Each record in our dataset contains the state of registration of the offending vehicle, and the type of parking offence. Let's say we want to get the most common type of offence for vehicles registered in different states. We can do this in Pandas using a combination of [value_counts](https://pandas.pydata.org/docs/reference/api/pandas.Series.value_counts.html) and [GroupBy.head](https://pandas.pydata.org/docs/reference/api/pandas.core.groupby.DataFrameGroupBy.head.html):"
      ]
    },
    {
      "cell_type": "code",
      "execution_count": null,
      "metadata": {
        "id": "bHXq-s_ZXOQN"
      },
      "outputs": [],
      "source": [
        "(df[[\"Registration State\", \"Violation Description\"]]  # get only these two columns\n",
        " .value_counts()  # get the count of offences per state and per type of offence\n",
        " .groupby(\"Registration State\")  # group by state\n",
        " .head(1)  # get the first row in each group (the type of offence with the largest count)\n",
        " .sort_index()  # sort by state name\n",
        " .reset_index()\n",
        ")"
      ]
    },
    {
      "cell_type": "markdown",
      "metadata": {
        "id": "8lXF4v4SXRf3"
      },
      "source": [
        "The code above uses [method chaining](https://tomaugspurger.net/posts/method-chaining/) to combine a series of operations into a single statement. You might find it useful to break the code up into multiple statements and inspect each of the intermediate results!"
      ]
    },
    {
      "cell_type": "markdown",
      "metadata": {
        "id": "H7_9EmGyXUJd"
      },
      "source": [
        "## Which vehicle body types are most frequently involved in parking violations?\n",
        "\n",
        "We can also investigate which vehicle body types most commonly appear in parking violations"
      ]
    },
    {
      "cell_type": "code",
      "execution_count": null,
      "metadata": {
        "id": "d7Ax-u4TXZtp"
      },
      "outputs": [],
      "source": [
        "(df\n",
        " .groupby([\"Vehicle Body Type\"])\n",
        " .agg({\"Summons Number\": \"count\"})\n",
        " .rename(columns={\"Summons Number\": \"Count\"})\n",
        " .sort_values([\"Count\"], ascending=False)\n",
        ")"
      ]
    },
    {
      "cell_type": "markdown",
      "metadata": {
        "id": "VjFfQLZHXehM"
      },
      "source": [
        "## How do parking violations vary across days of the week?"
      ]
    },
    {
      "cell_type": "code",
      "execution_count": null,
      "metadata": {
        "id": "s5_y9m_AXhIw"
      },
      "outputs": [],
      "source": [
        "weekday_names = {\n",
        "    0: \"Monday\",\n",
        "    1: \"Tuesday\",\n",
        "    2: \"Wednesday\",\n",
        "    3: \"Thursday\",\n",
        "    4: \"Friday\",\n",
        "    5: \"Saturday\",\n",
        "    6: \"Sunday\",\n",
        "}\n",
        "\n",
        "df[\"Issue Date\"] = df[\"Issue Date\"].astype(\"datetime64[ms]\")\n",
        "df[\"issue_weekday\"] = df[\"Issue Date\"].dt.weekday.map(weekday_names)\n",
        "\n",
        "df.groupby([\"issue_weekday\"])[\"Summons Number\"].count().sort_values()"
      ]
    },
    {
      "cell_type": "markdown",
      "metadata": {
        "id": "LDeYr6xkXiDc"
      },
      "source": [
        "It looks like there are fewer violations on weekends, which makes sense! During the week, more people are driving in New York City."
      ]
    },
    {
      "cell_type": "markdown",
      "metadata": {
        "id": "JKBQcT64XlMr"
      },
      "source": [
        "## Let's time it!\n",
        "\n",
        "Loading and processing this data took a little time. Let's measure how long these pipelines take in Pandas:"
      ]
    },
    {
      "cell_type": "code",
      "execution_count": null,
      "metadata": {
        "id": "mDpQhus-Xnfs"
      },
      "outputs": [],
      "source": [
        "%%time\n",
        "\n",
        "df = pd.read_parquet(\n",
        "    \"/tmp/nyc_parking_violations_2022.parquet\",\n",
        "    columns=[\"Registration State\", \"Violation Description\", \"Vehicle Body Type\", \"Issue Date\", \"Summons Number\"]\n",
        ")\n",
        "\n",
        "(df[[\"Registration State\", \"Violation Description\"]]\n",
        " .value_counts()\n",
        " .groupby(\"Registration State\")\n",
        " .head(1)\n",
        " .sort_index()\n",
        " .reset_index()\n",
        ")"
      ]
    },
    {
      "cell_type": "code",
      "execution_count": null,
      "metadata": {
        "id": "9Gw5TWH2Xqgv"
      },
      "outputs": [],
      "source": [
        "%%time\n",
        "\n",
        "(df\n",
        " .groupby([\"Vehicle Body Type\"])\n",
        " .agg({\"Summons Number\": \"count\"})\n",
        " .rename(columns={\"Summons Number\": \"Count\"})\n",
        " .sort_values([\"Count\"], ascending=False)\n",
        ")"
      ]
    },
    {
      "cell_type": "code",
      "execution_count": null,
      "metadata": {
        "id": "BovQgNrpXr2l"
      },
      "outputs": [],
      "source": [
        "%%time\n",
        "\n",
        "weekday_names = {\n",
        "    0: \"Monday\",\n",
        "    1: \"Tuesday\",\n",
        "    2: \"Wednesday\",\n",
        "    3: \"Thursday\",\n",
        "    4: \"Friday\",\n",
        "    5: \"Saturday\",\n",
        "    6: \"Sunday\",\n",
        "}\n",
        "\n",
        "df[\"Issue Date\"] = df[\"Issue Date\"].astype(\"datetime64[ms]\")\n",
        "df[\"issue_weekday\"] = df[\"Issue Date\"].dt.weekday.map(weekday_names)\n",
        "\n",
        "df.groupby([\"issue_weekday\"])[\"Summons Number\"].count().sort_values()"
      ]
    },
    {
      "cell_type": "markdown",
      "metadata": {
        "id": "VgAWS0yXXtGj"
      },
      "source": [
        "# Using cudf.pandas\n",
        "\n",
        "Now, let's re-run the Pandas code above with the `cudf.pandas` extension loaded.\n",
        "\n",
        "Typically, you should load the `cudf.pandas` extension as the first step in your notebook, before importing any modules. Here, we explicitly restart the kernel to simulate that behavior."
      ]
    },
    {
      "cell_type": "code",
      "execution_count": null,
      "metadata": {
        "id": "hW5rUr2tXzUW"
      },
      "outputs": [],
      "source": [
        "get_ipython().kernel.do_shutdown(restart=True)"
      ]
    },
    {
      "cell_type": "code",
      "execution_count": null,
      "metadata": {
        "id": "NjvPsTlGZrW7"
      },
      "outputs": [],
      "source": [
        "%load_ext cudf.pandas"
      ]
    },
    {
      "cell_type": "code",
      "execution_count": null,
      "metadata": {
        "id": "XL_u4l5gZJte"
      },
      "outputs": [],
      "source": [
        "%%time\n",
        "\n",
        "import pandas as pd\n",
        "\n",
        "df = pd.read_parquet(\n",
        "    \"/tmp/nyc_parking_violations_2022.parquet\",\n",
        "    columns=[\"Registration State\", \"Violation Description\", \"Vehicle Body Type\", \"Issue Date\", \"Summons Number\"]\n",
        ")\n",
        "\n",
        "(df[[\"Registration State\", \"Violation Description\"]]\n",
        " .value_counts()\n",
        " .groupby(\"Registration State\")\n",
        " .head(1)\n",
        " .sort_index()\n",
        " .reset_index()\n",
        ")"
      ]
    },
    {
      "cell_type": "code",
      "execution_count": null,
      "metadata": {
        "id": "BLWa8ed6d-pD"
      },
      "outputs": [],
      "source": [
        "%%time\n",
        "\n",
        "(df\n",
        " .groupby([\"Vehicle Body Type\"])\n",
        " .agg({\"Summons Number\": \"count\"})\n",
        " .rename(columns={\"Summons Number\": \"Count\"})\n",
        " .sort_values([\"Count\"], ascending=False)\n",
        ")"
      ]
    },
    {
      "cell_type": "code",
      "execution_count": null,
      "metadata": {
        "id": "X6ASy4mPd_-c"
      },
      "outputs": [],
      "source": [
        "%%time\n",
        "\n",
        "weekday_names = {\n",
        "    0: \"Monday\",\n",
        "    1: \"Tuesday\",\n",
        "    2: \"Wednesday\",\n",
        "    3: \"Thursday\",\n",
        "    4: \"Friday\",\n",
        "    5: \"Saturday\",\n",
        "    6: \"Sunday\",\n",
        "}\n",
        "\n",
        "df[\"Issue Date\"] = df[\"Issue Date\"].astype(\"datetime64[ms]\")\n",
        "df[\"issue_weekday\"] = df[\"Issue Date\"].dt.weekday.map(weekday_names)\n",
        "\n",
        "df.groupby([\"issue_weekday\"])[\"Summons Number\"].count().sort_values()"
      ]
    },
    {
      "cell_type": "markdown",
      "metadata": {
        "id": "FMUrf6iMeBdM"
      },
      "source": [
        "Much faster! Operations that took 5-20 seconds can now potentially finish in just milliseconds without changing any code."
      ]
    },
    {
      "cell_type": "markdown",
      "metadata": {
        "id": "00m6gUxqeGzk"
      },
      "source": [
        "# Understanding Performance\n",
        "\n",
        "`cudf.pandas` provides profiling utilities to help you better understand performance. With these tools, you can identify which parts of your code ran on the GPU and which parts ran on the CPU.\n",
        "\n",
        "They're accessible in the `cudf.pandas` namespace since the `cudf.pandas` extension was loaded above with `load_ext cudf.pandas`.\n",
        "\n",
        "#### Colab Note\n",
        "If you're running in Colab, the first time you run use the profiler it may take 10+ seconds due to Colab's debugger interacting with the built-in Python function [sys.settrace](https://docs.python.org/3/library/sys.html#sys.settrace) that we use for profiling. For demo purposes, this isn't an issue. Just run the cell again.\n",
        "\n",
        "## Profiling Functionality\n",
        "\n",
        "We can generate a per-function profile:"
      ]
    },
    {
      "cell_type": "code",
      "execution_count": null,
      "metadata": {
        "id": "fcHVUlJoJXkK"
      },
      "outputs": [],
      "source": [
        "len(df)"
      ]
    },
    {
      "cell_type": "code",
      "execution_count": null,
      "metadata": {
        "id": "RFm22OWbeHF2"
      },
      "outputs": [],
      "source": [
        "%%cudf.pandas.profile\n",
        "\n",
        "small_df = pd.DataFrame({'a': [\"0\", \"1\", \"2\"], 'b': [\"x\", \"y\", \"z\"]})\n",
        "small_df = pd.concat([small_df, small_df])\n",
        "\n",
        "axis = 0\n",
        "for i in range(0, 2):\n",
        "    small_df.min(axis=axis)\n",
        "    axis = i\n",
        "\n",
        "counts = small_df.groupby(\"a\").b.count()"
      ]
    },
    {
      "cell_type": "code",
      "execution_count": null,
      "metadata": {
        "id": "Syb-_vZweN2H"
      },
      "outputs": [],
      "source": [
        "%%cudf.pandas.line_profile\n",
        "\n",
        "small_df = pd.DataFrame({'a': [\"0\", \"1\", \"2\"], 'b': [\"x\", \"y\", \"z\"]})\n",
        "small_df = pd.concat([small_df, small_df])\n",
        "\n",
        "axis = 0\n",
        "for i in range(0, 2):\n",
        "    small_df.min(axis=axis)\n",
        "    axis = 1\n",
        "\n",
        "counts = small_df.groupby(\"a\").b.count()"
      ]
    },
    {
      "cell_type": "markdown",
      "metadata": {
        "id": "VCZ6BxwBpfjL"
      },
      "source": [
        "## Behind the scenes: What's going on here?\n",
        "\n",
        "When you load `cudf.pandas`, Pandas types like `Series` and `DataFrame` are replaced by proxy objects that dispatch operations to cuDF when possible. We can verify that `cudf.pandas` is active by looking at our `pd` variable:"
      ]
    },
    {
      "cell_type": "code",
      "execution_count": null,
      "metadata": {
        "id": "jogk5UrgeTkS"
      },
      "outputs": [],
      "source": [
        "pd"
      ]
    },
    {
      "cell_type": "markdown",
      "metadata": {
        "id": "vxh70rpDph3I"
      },
      "source": [
        "As a result, all pandas functions, methods, and created objects are proxies:"
      ]
    },
    {
      "cell_type": "code",
      "execution_count": null,
      "metadata": {
        "id": "RYTCGl7spgjs"
      },
      "outputs": [],
      "source": [
        "type(pd.read_csv)"
      ]
    },
    {
      "cell_type": "markdown",
      "metadata": {
        "id": "9-NvKu7XplmO"
      },
      "source": [
        "Operations supported by cuDF will be **very** fast:"
      ]
    },
    {
      "cell_type": "code",
      "execution_count": null,
      "metadata": {
        "id": "MFvLJo4upnUG"
      },
      "outputs": [],
      "source": [
        "%%time\n",
        "df.count(axis=0)"
      ]
    },
    {
      "cell_type": "markdown",
      "metadata": {
        "id": "Np6VP-wSpomO"
      },
      "source": [
        "Operations not supported by cuDF will be slower, as they fall back to using Pandas (copying data between the CPU and GPU under the hood as needed). For example, cuDF does not currently support the `axis=` parameter to the `count` method. So this operation will run on the CPU and be noticeably slower than the previous one."
      ]
    },
    {
      "cell_type": "code",
      "execution_count": null,
      "metadata": {
        "id": "mThydJIYpuha"
      },
      "outputs": [],
      "source": [
        "%%time\n",
        "df.count(axis=1) # This will use pandas, because cuDF doesn't support axis=1 for the .count() method"
      ]
    },
    {
      "cell_type": "markdown",
      "metadata": {
        "id": "tbDVvkP2pyra"
      },
      "source": [
        "But the story doesn't end here. We often need to mix our own code with third-party libraries that other people have written. Many of these libraries accept pandas objects as inputs."
      ]
    },
    {
      "cell_type": "markdown",
      "metadata": {
        "id": "3yK3a-mIp0vr"
      },
      "source": [
        "# Using third-party libraries with cudf.pandas\n",
        "\n",
        "You can pass Pandas objects to third-party libraries when using `cudf.pandas`, just like you would when using regular Pandas.\n",
        "\n",
        "Below, we show an example of using [plotly-express](https://plotly.com/python/plotly-express/) to visualize the data we've been processing:"
      ]
    },
    {
      "cell_type": "markdown",
      "metadata": {
        "id": "H0QwPQcAp2RV"
      },
      "source": [
        "## Visualizing which states have more pickup trucks relative to other vehicles?"
      ]
    },
    {
      "cell_type": "code",
      "execution_count": null,
      "metadata": {
        "id": "Ecs213eEqCd9"
      },
      "outputs": [],
      "source": [
        "import plotly.express as px\n",
        "\n",
        "df = df.rename(columns={\n",
        "    \"Registration State\": \"reg_state\",\n",
        "    \"Vehicle Body Type\": \"vehicle_type\",\n",
        "})\n",
        "\n",
        "# vehicle counts per state:\n",
        "counts = df.groupby(\"reg_state\").size().sort_index()\n",
        "# vehicles with type \"PICK\" (Pickup Truck)\n",
        "pickup_counts = df.where(df[\"vehicle_type\"] == \"PICK\").groupby(\"reg_state\").size()\n",
        "# percentage of pickup trucks by state:\n",
        "pickup_frac = ((pickup_counts / counts) * 100).rename(\"% Pickup Trucks\")\n",
        "del pickup_frac[\"MB\"]  # (Manitoba is a huge outlier!)\n",
        "\n",
        "# plot the results:\n",
        "pickup_frac = pickup_frac.reset_index()\n",
        "px.choropleth(pickup_frac, locations=\"reg_state\", color=\"% Pickup Trucks\", locationmode=\"USA-states\", scope=\"usa\")"
      ]
    },
    {
      "cell_type": "markdown",
      "metadata": {
        "id": "9bgMrWs5qDG_"
      },
      "source": [
        "## Beyond just passing data: **Accelerating** third-party code\n",
        "\n",
        "Being able to pass these proxy objects to libraries like Plotly is great, but the benefits don't end there.\n",
        "\n",
        "When you enable `cudf.pandas`, pandas operations running **inside the third-party library's functions** will also benefit from GPU acceleration where possible!\n",
        "\n",
        "Below, you can see an image illustrating how `cudf.pandas` can accelerate the pandas backend in Ibis, a library that provides a unified DataFrame API to various backends. We ran this example on a system with an NVIDIA H100 GPU and an Intel Xeon Platinum 8480CL CPU.\n",
        "\n",
        "\n",
        "By loading the `cudf.pandas` extension, pandas operations within Ibis can use the GPU with zero code change. It just works."
      ]
    },
    {
      "cell_type": "markdown",
      "metadata": {
        "id": "8JW2CQL6qEv3"
      },
      "source": [
        "![ibis](https://github.com/rapidsai-community/showcase/blob/main/getting_started_tutorials/images/ibis-cudf-pandas-comparison.png?raw=1)"
      ]
    },
    {
      "cell_type": "markdown",
      "metadata": {
        "id": "pyVNtGUhtFs5"
      },
      "source": [
        "# Conclusion\n",
        "\n",
        "With `cudf.pandas`, you can keep using pandas as your primary dataframe library. When things start to get a little slow, just load the `cudf.pandas` and run your existing code on a GPU!\n",
        "\n",
        "To learn more, we encourage you to visit [rapids.ai/cudf-pandas](https://rapids.ai/cudf-pandas)."
      ]
    },
    {
      "cell_type": "code",
      "execution_count": null,
      "metadata": {
        "id": "XjELOIf3xykH"
      },
      "outputs": [],
      "source": []
    }
  ],
  "metadata": {
    "accelerator": "GPU",
    "colab": {
      "gpuType": "T4",
      "provenance": [],
      "toc_visible": true
    },
    "kernelspec": {
      "display_name": "Python 3 (ipykernel)",
      "language": "python",
      "name": "python3"
    },
    "language_info": {
      "codemirror_mode": {
        "name": "ipython",
        "version": 3
      },
      "file_extension": ".py",
      "mimetype": "text/x-python",
      "name": "python",
      "nbconvert_exporter": "python",
      "pygments_lexer": "ipython3",
      "version": "3.11.8"
    }
  },
  "nbformat": 4,
  "nbformat_minor": 0
}